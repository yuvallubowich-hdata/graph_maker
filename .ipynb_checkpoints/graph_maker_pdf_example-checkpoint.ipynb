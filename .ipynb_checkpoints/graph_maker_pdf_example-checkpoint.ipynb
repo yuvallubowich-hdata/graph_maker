{
 "cells": [
  {
   "cell_type": "markdown",
   "id": "cdc80c65",
   "metadata": {},
   "source": [
    "# Create a Graph from PDF Documents"
   ]
  },
  {
   "cell_type": "markdown",
   "id": "2e9059ec",
   "metadata": {},
   "source": [
    "This notebook demonstrates how to extract a knowledge graph from PDF documents using the graph maker\n",
    "\n",
    "Steps:\n",
    "- Define an Ontology\n",
    "- Upload PDF documents\n",
    "- Convert PDFs to text chunks\n",
    "- Create Graph using GPT-3.5\n",
    "- Save the graph to Neo4j db\n",
    "- Visualise\n",
    "\n",
    "Loading the graph maker functions ->"
   ]
  },
  {
   "cell_type": "code",
   "execution_count": null,
   "id": "3f333d83",
   "metadata": {},
   "outputs": [],
   "source": [
    "from knowledge_graph_maker import GraphMaker, Ontology, OpenAIClient\n",
    "from knowledge_graph_maker import Document\n",
    "from pdf_processor import process_pdf_files\n",
    "import ipywidgets as widgets\n",
    "from IPython.display import display, clear_output"
   ]
  },
  {
   "cell_type": "markdown",
   "id": "6f34c6db",
   "metadata": {},
   "source": [
    "# Define the Ontology"
   ]
  },
  {
   "cell_type": "code",
   "execution_count": null,
   "id": "2f082912",
   "metadata": {},
   "outputs": [],
   "source": [
    "ontology = Ontology(\n",
    "    labels=[\n",
    "        {\"Person\": \"Person name without any adjectives, Remember a person may be referenced by their name or using a pronoun\"},\n",
    "        {\"Object\": \"Do not add the definite article 'the' in the object name\"},\n",
    "        {\"Event\": \"Event event involving multiple people. Do not include qualifiers or verbs like gives, leaves, works etc.\"},\n",
    "        \"Place\",\n",
    "        \"Document\",\n",
    "        \"Organisation\",\n",
    "        \"Action\",\n",
    "        {\"Miscellaneous\": \"Any important concept can not be categorised with any other given label\"},\n",
    "    ],\n",
    "    relationships=[\n",
    "        \"Relation between any pair of Entities\"\n",
    "        ],\n",
    ")"
   ]
  },
  {
   "cell_type": "markdown",
   "id": "18158591",
   "metadata": {},
   "source": [
    "# Upload PDF Files"
   ]
  },
  {
   "cell_type": "code",
   "execution_count": null,
   "id": "ab1f8244",
   "metadata": {},
   "outputs": [],
   "source": [
    "uploader = widgets.FileUpload(\n",
    "    accept='.pdf',  # Only accept PDF files\n",
    "    multiple=True  # Allow multiple files\n",
    ")\n",
    "display(uploader)"
   ]
  },
  {
   "cell_type": "code",
   "execution_count": null,
   "id": "3e067566",
   "metadata": {},
   "outputs": [],
   "source": [
    "# Process uploaded PDFs\n",
    "pdf_files = [file['content'] for file in uploader.value.values()]\n",
    "text_chunks = process_pdf_files(pdf_files)\n",
    "print(f\"Processed {len(text_chunks)} text chunks from {len(pdf_files)} PDF files\")"
   ]
  },
  {
   "cell_type": "markdown",
   "id": "87b4f2cf",
   "metadata": {},
   "source": [
    "# Create Graph from PDF Content"
   ]
  },
  {
   "cell_type": "code",
   "execution_count": null,
   "id": "472e89a9",
   "metadata": {},
   "outputs": [],
   "source": [
    "import datetime\n",
    "current_time = str(datetime.datetime.now())\n",
    "\n",
    "## Open AI model\n",
    "oai_model=\"gpt-3.5-turbo\"\n",
    "\n",
    "## Use OpenAI\n",
    "llm = OpenAIClient(model=oai_model, temperature=0.1, top_p=0.5)\n",
    "\n",
    "graph_maker = GraphMaker(ontology=ontology, llm_client=llm, verbose=False)\n",
    "\n",
    "def generate_summary(text):\n",
    "    SYS_PROMPT = (\n",
    "        \"Succintly summarise the text provided by the user. \"\n",
    "        \"Respond only with the summary and no other comments\"\n",
    "    )\n",
    "    return llm.generate(SYS_PROMPT, text)\n",
    "\n",
    "documents = []\n",
    "for text in text_chunks:\n",
    "    summary = generate_summary(text)\n",
    "    documents.append(\n",
    "        Document(\n",
    "            text=text,\n",
    "            metadata={\n",
    "                \"summary\": summary,\n",
    "                \"timestamp\": current_time,\n",
    "            },\n",
    "        )\n",
    "    )\n",
    "\n",
    "graph = graph_maker.create_graph(documents)"
   ]
  },
  {
   "cell_type": "markdown",
   "id": "975bcf5b",
   "metadata": {},
   "source": [
    "# Save to Neo4j"
   ]
  },
  {
   "cell_type": "code",
   "execution_count": null,
   "id": "902827b2",
   "metadata": {},
   "outputs": [],
   "source": [
    "from knowledge_graph_maker import Neo4jGraphModel\n",
    "\n",
    "create_indices = False\n",
    "neo4j_graph = Neo4jGraphModel(edges=graph, create_indices=create_indices)\n",
    "neo4j_graph.save()"
   ]
  }
 ],
 "metadata": {
  "language_info": {
   "name": "python"
  }
 },
 "nbformat": 4,
 "nbformat_minor": 5
}
